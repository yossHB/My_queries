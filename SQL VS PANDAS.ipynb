{
 "cells": [
  {
   "attachments": {},
   "cell_type": "markdown",
   "metadata": {},
   "source": [
    "SQL VS Pandas\n",
    "- SELECT\n",
    "- DISTINCT\n",
    "- WHERE\n",
    "- NOT\n",
    "- AND / OR\n",
    "- IN\n",
    "- LIKE\n",
    "- ORDER BY\n",
    "- GROUP BY\n",
    "    - COUNT\n",
    "    - SUM\n",
    "    - AVG\n",
    "- RANK\n",
    "- RANK + PARTITION BY\n",
    "- DENSE\n",
    "- UPDATE\n",
    "- JOINS\n",
    "\n"
   ]
  },
  {
   "cell_type": "code",
   "execution_count": null,
   "metadata": {},
   "outputs": [],
   "source": [
    "# SQL: SELECT * FROM players\n",
    "# Pandas:\n",
    "players\n",
    "\n",
    "# SQL: SELECT Name, Age FROM players\n",
    "# Pandas:\n",
    "players[[\"Name\", \"Age\"]]\n",
    "\n",
    "# SQL: SELECT TOP 5 * FROM players\n",
    "# Pandas:\n",
    "players.head(5)"
   ]
  },
  {
   "attachments": {},
   "cell_type": "markdown",
   "metadata": {},
   "source": [
    "# SQL: SELECT DISTINCT Position FROM players\n",
    "# Pandas:\n",
    "players[\"Position\"][~players[\"Position\"].duplicated()]"
   ]
  },
  {
   "cell_type": "code",
   "execution_count": null,
   "metadata": {},
   "outputs": [],
   "source": [
    "# SQL: SELECT * FROM players WHERE Position = 'QB'\n",
    "# Pandas:\n",
    "players[players.Position == \"QB\"]\n",
    "# also:\n",
    "players[players[\"Position\"] == \"QB\"]"
   ]
  },
  {
   "cell_type": "code",
   "execution_count": null,
   "metadata": {},
   "outputs": [],
   "source": [
    "# SQL: SELECT Name, Age FROM players WHERE Position = 'QB'\n",
    "# Pandas:\n",
    "players[[\"Name\", \"Age\"]][players.Position == \"QB\"]"
   ]
  },
  {
   "cell_type": "code",
   "execution_count": null,
   "metadata": {},
   "outputs": [],
   "source": [
    "# SQL: SELECT * FROM players WHERE NOT Position =='QB'\n",
    "# Pandas:\n",
    "players[~(players.Position == \"QB\")]\n",
    "# also:\n",
    "players[~(players[\"Position\"] == \"QB\")]"
   ]
  },
  {
   "cell_type": "code",
   "execution_count": null,
   "metadata": {},
   "outputs": [],
   "source": [
    "# SQL: SELECT Name, Age FROM players WHERE Position = 'QB' AND Age < 30\n",
    "# Pandas:\n",
    "players[[\"Name\", \"Age\"]][(players.Position == \"QB\") & (players.Age < 30)]"
   ]
  },
  {
   "cell_type": "code",
   "execution_count": null,
   "metadata": {},
   "outputs": [],
   "source": [
    "# SQL: SELECT Name, Age FROM players WHERE Position = 'QB' OR Position = 'RB'\n",
    "# Pandas:\n",
    "players[[\"Name\", \"Age\"]][(players.Position == \"QB\") |(players.Position == \"RB\")]"
   ]
  },
  {
   "cell_type": "code",
   "execution_count": null,
   "metadata": {},
   "outputs": [],
   "source": [
    "# SQL: SELECT * FROM players WHERE Position IN ('QB', 'RB')\n",
    "# Pandas:\n",
    "players[players.Position.isin([\"QB\", \"RB\"])]"
   ]
  },
  {
   "cell_type": "code",
   "execution_count": null,
   "metadata": {},
   "outputs": [],
   "source": [
    "# SQL: SELECT * FROM players WHERE Team LIKE '%ns%'\n",
    "# Pandas:\n",
    "players[players.Team.str.contains(\"ns\")]"
   ]
  },
  {
   "cell_type": "code",
   "execution_count": null,
   "metadata": {},
   "outputs": [],
   "source": [
    "# SQL: SELECT * FROM players ORDER BY Name\n",
    "# Pandas:\n",
    "players.sort_values(\"Name\")\n",
    "\n",
    "# SQL: SELECT * FROM players ORDER BY Age, Name\n",
    "# Pandas:\n",
    "players.sort_values([\"Age\", \"Name\"])\n",
    "\n",
    "# SQL: SELECT * FROM players ORDER BY Age DESC, Name\n",
    "# Pandas:\n",
    "players.sort_values([\"Age\", \"Name\"], ascending=[False, True])\n"
   ]
  },
  {
   "cell_type": "code",
   "execution_count": null,
   "metadata": {},
   "outputs": [],
   "source": [
    "# SQL: SELECT COUNT(*) AS COUNT FROM players GROUP BY Position\n",
    "# Pandas:\n",
    "players.groupby(\"Position\").agg({\"Name\": \"count\"}).rename(columns={\"Name\": \"COUNT\"})"
   ]
  },
  {
   "cell_type": "code",
   "execution_count": null,
   "metadata": {},
   "outputs": [],
   "source": [
    "# SQL: SELECT SUM(Age) AS Age FROM players GROUP BY Position\n",
    "# Pandas:\n",
    "players.groupby(\"Position\").agg({\"Age\": \"sum\"})"
   ]
  },
  {
   "cell_type": "code",
   "execution_count": null,
   "metadata": {},
   "outputs": [],
   "source": [
    "# SQL: SELECT AVG(Age) AS Age FROM players GROUP BY Position\n",
    "# Pandas:\n",
    "players.groupby(\"Position\").agg({\"Age\": \"mean\"})"
   ]
  },
  {
   "cell_type": "code",
   "execution_count": null,
   "metadata": {},
   "outputs": [],
   "source": [
    "# SQL: SELECT *, RANK() OVER (ORDER BY Age DESC) FROM players\n",
    "# Pandas:\n",
    "players[\"AgeRank\"] = players.Age.rank(ascending=False)\n",
    "players"
   ]
  },
  {
   "cell_type": "code",
   "execution_count": null,
   "metadata": {},
   "outputs": [],
   "source": [
    "# SQL: SELECT *, RANK() OVER (PARTITION BY Position ORDER BY Age DESC) FROM players\n",
    "# Pandas:\n",
    "players[\"AgeRank\"] = players.groupby(\"Position\")[\"Age\"].rank(ascending=False)\n",
    "players"
   ]
  },
  {
   "cell_type": "code",
   "execution_count": null,
   "metadata": {},
   "outputs": [],
   "source": [
    "# SQL: SELECT *, DENSE_RANK() OVER (ORDER BY Age DESC) FROM players\n",
    "# Pandas:\n",
    "players[\"AgeRank\"] = players.Age.rank(method=\"dense\", ascending=False)\n",
    "players"
   ]
  },
  {
   "cell_type": "code",
   "execution_count": null,
   "metadata": {},
   "outputs": [],
   "source": [
    "# SQL: UPDATE players SET Age = 0 WHERE Age = 24\n",
    "# Pandas:\n",
    "players.lwoc[players.Age == 24, \"Age\"] = 0"
   ]
  },
  {
   "cell_type": "code",
   "execution_count": null,
   "metadata": {},
   "outputs": [],
   "source": [
    "# JOINS\n",
    "# => https://levelup.gitconnected.com/sql-v-pandas-join-57642dc3ce76"
   ]
  }
 ],
 "metadata": {
  "kernelspec": {
   "display_name": "Python 3",
   "language": "python",
   "name": "python3"
  },
  "language_info": {
   "name": "python",
   "version": "3.10.3 (tags/v3.10.3:a342a49, Mar 16 2022, 13:07:40) [MSC v.1929 64 bit (AMD64)]"
  },
  "orig_nbformat": 4,
  "vscode": {
   "interpreter": {
    "hash": "369f2c481f4da34e4445cda3fffd2e751bd1c4d706f27375911949ba6bb62e1c"
   }
  }
 },
 "nbformat": 4,
 "nbformat_minor": 2
}
